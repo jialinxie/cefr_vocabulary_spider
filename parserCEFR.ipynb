{
 "cells": [
  {
   "cell_type": "code",
   "execution_count": 2,
   "metadata": {},
   "outputs": [],
   "source": [
    "import requests\n",
    "import random\n",
    "from requests.auth import HTTPBasicAuth\n",
    "# from sqlalchemy import null\n",
    "\n",
    "\n",
    "url = \"\"\"http://vocabulary.englishprofile.org/dictionary/search/us/?pageSize=5000&q=&wl=304&p=1\"\"\"\n",
    "page = requests.get(url, auth=('englishprofile', 'vocabulary'))\n",
    "\n",
    "# path = '/Users/xiejialin/Downloads/cefr/b2/CEFR_B2.html'\n",
    "# htmlfile = open(path, 'r', encoding='utf-8')\n",
    "# htmlhandle = htmlfile.read()\n",
    "\n",
    "from bs4 import BeautifulSoup\n",
    "soup = BeautifulSoup(page.text, 'lxml')\n",
    "list = soup.findAll('span', { \"class\" : \"base\"})\n",
    "\n",
    "#save to file\n",
    "with open('cefr_b2.txt', 'w')as f:\n",
    "    for item in list:\n",
    "        f.write(\"%s\\n\" % item.text)\n"
   ]
  }
 ],
 "metadata": {
  "interpreter": {
   "hash": "aee8b7b246df8f9039afb4144a1f6fd8d2ca17a180786b69acc140d282b71a49"
  },
  "kernelspec": {
   "display_name": "Python 3.9.9 64-bit",
   "language": "python",
   "name": "python3"
  },
  "language_info": {
   "codemirror_mode": {
    "name": "ipython",
    "version": 3
   },
   "file_extension": ".py",
   "mimetype": "text/x-python",
   "name": "python",
   "nbconvert_exporter": "python",
   "pygments_lexer": "ipython3",
   "version": "3.9.9"
  },
  "orig_nbformat": 4
 },
 "nbformat": 4,
 "nbformat_minor": 2
}
